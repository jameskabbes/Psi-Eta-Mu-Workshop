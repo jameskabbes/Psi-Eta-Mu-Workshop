{
 "cells": [
  {
   "cell_type": "markdown",
   "metadata": {},
   "source": [
    "# Question 3"
   ]
  },
  {
   "cell_type": "code",
   "execution_count": 2,
   "metadata": {},
   "outputs": [],
   "source": [
    "f = open( '../prompts/3/triangle.txt', 'r')\n",
    "triangle = f.read()\n",
    "f.close()"
   ]
  },
  {
   "cell_type": "code",
   "execution_count": 3,
   "metadata": {},
   "outputs": [
    {
     "name": "stdout",
     "output_type": "stream",
     "text": [
      "                  56\n",
      "                34  31\n",
      "              47  26  21\n",
      "            61  41  12  00\n",
      "          60  88  27  48  64\n",
      "        40  96  18  80  15  26\n",
      "      46  76  04  66  16  76  67\n",
      "    65  60  21  22  65  35  55  18\n",
      "  43  06  85  10  51  45  71  05  22\n",
      "57  62  65  62  78  31  91  61  00  81\n",
      "\n"
     ]
    }
   ],
   "source": [
    "print(triangle)"
   ]
  },
  {
   "cell_type": "markdown",
   "metadata": {},
   "source": [
    "## Read data into usable format"
   ]
  },
  {
   "cell_type": "code",
   "execution_count": 4,
   "metadata": {},
   "outputs": [],
   "source": [
    "rows = []\n",
    "\n",
    "for row_string in triangle.strip().split('\\n'):\n",
    "    row_string = row_string.strip()\n",
    "    numbers = row_string.split('  ')\n",
    "    numbers = [ int(number) for number in numbers ]\n",
    "\n",
    "    rows.append( numbers )\n"
   ]
  },
  {
   "cell_type": "code",
   "execution_count": 5,
   "metadata": {},
   "outputs": [
    {
     "data": {
      "text/plain": [
       "[[56],\n",
       " [34, 31],\n",
       " [47, 26, 21],\n",
       " [61, 41, 12, 0],\n",
       " [60, 88, 27, 48, 64],\n",
       " [40, 96, 18, 80, 15, 26],\n",
       " [46, 76, 4, 66, 16, 76, 67],\n",
       " [65, 60, 21, 22, 65, 35, 55, 18],\n",
       " [43, 6, 85, 10, 51, 45, 71, 5, 22],\n",
       " [57, 62, 65, 62, 78, 31, 91, 61, 0, 81]]"
      ]
     },
     "execution_count": 5,
     "metadata": {},
     "output_type": "execute_result"
    }
   ],
   "source": [
    "rows"
   ]
  },
  {
   "cell_type": "markdown",
   "metadata": {},
   "source": [
    "## Try all solutions"
   ]
  },
  {
   "cell_type": "code",
   "execution_count": null,
   "metadata": {},
   "outputs": [],
   "source": [
    "# one possible way to solve this is to find all 2^(N-1) possibilities"
   ]
  },
  {
   "cell_type": "markdown",
   "metadata": {},
   "source": [
    "## Bottom-up"
   ]
  },
  {
   "cell_type": "markdown",
   "metadata": {},
   "source": [
    "#### Working from the N-1 row and up, solve the following tiny triangle\n",
    "\n",
    "```\n",
    "  43\n",
    "57  62\n",
    "```\n",
    "\n",
    "43 finds the maximum of it's children (62) and adds it to itself\n",
    "\n",
    "```\n",
    "  105\n",
    "57  62\n",
    "```\n",
    "\n",
    "Solving a larger triangle\n",
    "\n",
    "```\n",
    "    65\n",
    "  43  06\n",
    "57  62  65 \n",
    "```\n",
    "gives us\n",
    "\n",
    "```\n",
    "    170\n",
    "  105  71\n",
    "57  62  65 \n",
    "```"
   ]
  },
  {
   "cell_type": "code",
   "execution_count": 6,
   "metadata": {},
   "outputs": [],
   "source": [
    "import copy\n",
    "rows_copy = copy.deepcopy(rows) #don't mess with orginal\n",
    "\n",
    "for row_num in range(len(rows_copy)-2, -1, -1):\n",
    "    row = rows_copy[row_num]\n",
    "    row_below = rows_copy[row_num+1]\n",
    "\n",
    "    for col_num in range(len(row)):\n",
    "        below_left = row_below[col_num]\n",
    "        below_right = row_below[col_num+1]\n",
    "\n",
    "        rows_copy[ row_num ][ col_num ] = rows_copy[ row_num ][ col_num ] + max(below_left, below_right)\n",
    "\n",
    "    "
   ]
  },
  {
   "cell_type": "code",
   "execution_count": 8,
   "metadata": {},
   "outputs": [
    {
     "data": {
      "text/plain": [
       "[[56],\n",
       " [34, 31],\n",
       " [47, 26, 21],\n",
       " [61, 41, 12, 0],\n",
       " [60, 88, 27, 48, 64],\n",
       " [40, 96, 18, 80, 15, 26],\n",
       " [46, 76, 4, 66, 16, 76, 67],\n",
       " [65, 60, 21, 22, 65, 35, 55, 18],\n",
       " [43, 6, 85, 10, 51, 45, 71, 5, 22],\n",
       " [57, 62, 65, 62, 78, 31, 91, 61, 0, 81]]"
      ]
     },
     "execution_count": 8,
     "metadata": {},
     "output_type": "execute_result"
    }
   ],
   "source": [
    "rows"
   ]
  },
  {
   "cell_type": "code",
   "execution_count": 9,
   "metadata": {},
   "outputs": [
    {
     "data": {
      "text/plain": [
       "[[668],\n",
       " [612, 568],\n",
       " [578, 537, 428],\n",
       " [531, 511, 407, 395],\n",
       " [442, 470, 374, 395, 383],\n",
       " [326, 382, 285, 347, 308, 319],\n",
       " [256, 286, 175, 267, 217, 293, 284],\n",
       " [170, 210, 171, 151, 201, 197, 217, 121],\n",
       " [105, 71, 150, 88, 129, 136, 162, 66, 103],\n",
       " [57, 62, 65, 62, 78, 31, 91, 61, 0, 81]]"
      ]
     },
     "execution_count": 9,
     "metadata": {},
     "output_type": "execute_result"
    }
   ],
   "source": [
    "rows_copy"
   ]
  },
  {
   "cell_type": "code",
   "execution_count": 10,
   "metadata": {},
   "outputs": [
    {
     "data": {
      "text/plain": [
       "668"
      ]
     },
     "execution_count": 10,
     "metadata": {},
     "output_type": "execute_result"
    }
   ],
   "source": [
    "rows_copy[0][0]"
   ]
  },
  {
   "cell_type": "markdown",
   "metadata": {},
   "source": []
  }
 ],
 "metadata": {
  "kernelspec": {
   "display_name": "Python 3.9.7 ('analytics')",
   "language": "python",
   "name": "python3"
  },
  "language_info": {
   "codemirror_mode": {
    "name": "ipython",
    "version": 3
   },
   "file_extension": ".py",
   "mimetype": "text/x-python",
   "name": "python",
   "nbconvert_exporter": "python",
   "pygments_lexer": "ipython3",
   "version": "3.9.7"
  },
  "orig_nbformat": 4,
  "vscode": {
   "interpreter": {
    "hash": "3fe52bc77177b2b61462ca24a7371601f5ce5736444e6ebecf84f29ab34cc624"
   }
  }
 },
 "nbformat": 4,
 "nbformat_minor": 2
}
